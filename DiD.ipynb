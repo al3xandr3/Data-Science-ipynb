{
 "cells": [
  {
   "cell_type": "markdown",
   "metadata": {},
   "source": [
    "___\n",
    "# Difference-in-Differences\n",
    "\n",
    "- This method is handy when a true A/B test is not possible to do.\n",
    "- Allows us to quantify the impact of an intervention, by picking up an adequate (pseudo)control group"
   ]
  },
  {
   "cell_type": "code",
   "execution_count": 2,
   "metadata": {},
   "outputs": [
    {
     "data": {
      "text/html": [
       "\n",
       "        <iframe\n",
       "            width=\"560\"\n",
       "            height=\"315\"\n",
       "            src=\"https://www.youtube.com/embed/IpWQlHapifU\"\n",
       "            frameborder=\"0\"\n",
       "            allowfullscreen\n",
       "        ></iframe>\n",
       "        "
      ],
      "text/plain": [
       "<IPython.lib.display.IFrame at 0x1f21a685438>"
      ]
     },
     "execution_count": 2,
     "metadata": {},
     "output_type": "execute_result"
    }
   ],
   "source": [
    "from IPython.display import IFrame\n",
    "\n",
    "# Youtube\n",
    "IFrame('https://www.youtube.com/embed/IpWQlHapifU', 560, 315)\n",
    "\n",
    "## Reference\n",
    "# https://www.mailman.columbia.edu/research/population-health-methods/difference-difference-estimation\n",
    "# https://towardsdatascience.com/causal-inference-101-difference-in-differences-1fbbb0f55e85"
   ]
  },
  {
   "cell_type": "markdown",
   "metadata": {},
   "source": [
    "___\n",
    "\n",
    "## Import Libraries"
   ]
  },
  {
   "cell_type": "code",
   "execution_count": 1,
   "metadata": {},
   "outputs": [],
   "source": [
    "## remove this, this is for my personal pc setup\n",
    "import sys; import os; sys.path.append(os.path.expanduser('~/DropBox/my/projects/T/'))"
   ]
  },
  {
   "cell_type": "code",
   "execution_count": 3,
   "metadata": {},
   "outputs": [],
   "source": [
    "import matplotlib\n",
    "import matplotlib.pyplot as plt\n",
    "plt.style.use('fivethirtyeight')\n",
    "\n",
    "import pandas   as pd\n",
    "import operator as op\n",
    "\n",
    "import numpy             as np\n",
    "import seaborn           as sns\n",
    "from datetime import datetime\n",
    "\n",
    "import pyscope\n",
    "from pyscope import read_ss\n",
    "\n",
    "from T import * # want T to be accessible\n",
    "\n",
    "%load_ext autoreload\n",
    "%autoreload\n",
    "\n",
    "%matplotlib inline\n",
    "%config InlineBackend.figure_format = 'retina'"
   ]
  },
  {
   "cell_type": "markdown",
   "metadata": {},
   "source": [
    "## Generate Data"
   ]
  },
  {
   "cell_type": "code",
   "execution_count": 4,
   "metadata": {},
   "outputs": [
    {
     "data": {
      "text/html": [
       "<div>\n",
       "<style scoped>\n",
       "    .dataframe tbody tr th:only-of-type {\n",
       "        vertical-align: middle;\n",
       "    }\n",
       "\n",
       "    .dataframe tbody tr th {\n",
       "        vertical-align: top;\n",
       "    }\n",
       "\n",
       "    .dataframe thead th {\n",
       "        text-align: right;\n",
       "    }\n",
       "</style>\n",
       "<table border=\"1\" class=\"dataframe\">\n",
       "  <thead>\n",
       "    <tr style=\"text-align: right;\">\n",
       "      <th></th>\n",
       "      <th>user</th>\n",
       "      <th>date</th>\n",
       "      <th>period</th>\n",
       "      <th>cohort</th>\n",
       "      <th>kpi</th>\n",
       "    </tr>\n",
       "  </thead>\n",
       "  <tbody>\n",
       "    <tr>\n",
       "      <th>0</th>\n",
       "      <td>a</td>\n",
       "      <td>2018-10-16</td>\n",
       "      <td>before</td>\n",
       "      <td>treatment</td>\n",
       "      <td>10</td>\n",
       "    </tr>\n",
       "    <tr>\n",
       "      <th>1</th>\n",
       "      <td>b</td>\n",
       "      <td>2018-10-16</td>\n",
       "      <td>before</td>\n",
       "      <td>treatment</td>\n",
       "      <td>11</td>\n",
       "    </tr>\n",
       "    <tr>\n",
       "      <th>2</th>\n",
       "      <td>a</td>\n",
       "      <td>2018-10-17</td>\n",
       "      <td>before</td>\n",
       "      <td>treatment</td>\n",
       "      <td>12</td>\n",
       "    </tr>\n",
       "    <tr>\n",
       "      <th>3</th>\n",
       "      <td>c</td>\n",
       "      <td>2018-10-17</td>\n",
       "      <td>before</td>\n",
       "      <td>treatment</td>\n",
       "      <td>13</td>\n",
       "    </tr>\n",
       "    <tr>\n",
       "      <th>4</th>\n",
       "      <td>a</td>\n",
       "      <td>2018-10-18</td>\n",
       "      <td>after</td>\n",
       "      <td>treatment</td>\n",
       "      <td>25</td>\n",
       "    </tr>\n",
       "    <tr>\n",
       "      <th>5</th>\n",
       "      <td>b</td>\n",
       "      <td>2018-10-19</td>\n",
       "      <td>after</td>\n",
       "      <td>treatment</td>\n",
       "      <td>35</td>\n",
       "    </tr>\n",
       "  </tbody>\n",
       "</table>\n",
       "</div>"
      ],
      "text/plain": [
       "  user       date  period     cohort  kpi\n",
       "0    a 2018-10-16  before  treatment   10\n",
       "1    b 2018-10-16  before  treatment   11\n",
       "2    a 2018-10-17  before  treatment   12\n",
       "3    c 2018-10-17  before  treatment   13\n",
       "4    a 2018-10-18   after  treatment   25\n",
       "5    b 2018-10-19   after  treatment   35"
      ]
     },
     "metadata": {},
     "output_type": "display_data"
    },
    {
     "data": {
      "text/html": [
       "<div>\n",
       "<style scoped>\n",
       "    .dataframe tbody tr th:only-of-type {\n",
       "        vertical-align: middle;\n",
       "    }\n",
       "\n",
       "    .dataframe tbody tr th {\n",
       "        vertical-align: top;\n",
       "    }\n",
       "\n",
       "    .dataframe thead th {\n",
       "        text-align: right;\n",
       "    }\n",
       "</style>\n",
       "<table border=\"1\" class=\"dataframe\">\n",
       "  <thead>\n",
       "    <tr style=\"text-align: right;\">\n",
       "      <th></th>\n",
       "      <th>user</th>\n",
       "      <th>date</th>\n",
       "      <th>period</th>\n",
       "      <th>cohort</th>\n",
       "      <th>kpi</th>\n",
       "    </tr>\n",
       "  </thead>\n",
       "  <tbody>\n",
       "    <tr>\n",
       "      <th>0</th>\n",
       "      <td>k</td>\n",
       "      <td>2018-10-16</td>\n",
       "      <td>before</td>\n",
       "      <td>control</td>\n",
       "      <td>5</td>\n",
       "    </tr>\n",
       "    <tr>\n",
       "      <th>1</th>\n",
       "      <td>j</td>\n",
       "      <td>2018-10-16</td>\n",
       "      <td>before</td>\n",
       "      <td>control</td>\n",
       "      <td>6</td>\n",
       "    </tr>\n",
       "    <tr>\n",
       "      <th>2</th>\n",
       "      <td>k</td>\n",
       "      <td>2018-10-17</td>\n",
       "      <td>before</td>\n",
       "      <td>control</td>\n",
       "      <td>7</td>\n",
       "    </tr>\n",
       "    <tr>\n",
       "      <th>3</th>\n",
       "      <td>t</td>\n",
       "      <td>2018-10-17</td>\n",
       "      <td>before</td>\n",
       "      <td>control</td>\n",
       "      <td>8</td>\n",
       "    </tr>\n",
       "    <tr>\n",
       "      <th>4</th>\n",
       "      <td>k</td>\n",
       "      <td>2018-10-18</td>\n",
       "      <td>after</td>\n",
       "      <td>control</td>\n",
       "      <td>9</td>\n",
       "    </tr>\n",
       "    <tr>\n",
       "      <th>5</th>\n",
       "      <td>j</td>\n",
       "      <td>2018-10-19</td>\n",
       "      <td>after</td>\n",
       "      <td>control</td>\n",
       "      <td>10</td>\n",
       "    </tr>\n",
       "  </tbody>\n",
       "</table>\n",
       "</div>"
      ],
      "text/plain": [
       "  user       date  period   cohort  kpi\n",
       "0    k 2018-10-16  before  control    5\n",
       "1    j 2018-10-16  before  control    6\n",
       "2    k 2018-10-17  before  control    7\n",
       "3    t 2018-10-17  before  control    8\n",
       "4    k 2018-10-18   after  control    9\n",
       "5    j 2018-10-19   after  control   10"
      ]
     },
     "metadata": {},
     "output_type": "display_data"
    }
   ],
   "source": [
    "# Test Data\n",
    "\n",
    "treatment = pd.DataFrame({'user':['a','b','a','c','a','b'] \\\n",
    "                 , 'date': [datetime.strptime(d, '%Y-%m-%d') for d in ['2018-10-16', '2018-10-16', '2018-10-17', '2018-10-17', '2018-10-18', '2018-10-19']]\n",
    "                 , 'period':['before', 'before', 'before', 'before', 'after','after'] \\\n",
    "                 , 'cohort':['treatment','treatment','treatment','treatment','treatment','treatment'] \\\n",
    "                 , 'kpi':[10,11,12,13,25,35]})\n",
    "\n",
    "\n",
    "control   =  pd.DataFrame({'user':['k','j','k','t','k','j'] \\\n",
    "                 , 'date': [datetime.strptime(d, '%Y-%m-%d') for d in ['2018-10-16', '2018-10-16', '2018-10-17', '2018-10-17', '2018-10-18', '2018-10-19']]\n",
    "                 , 'period':['before', 'before', 'before', 'before', 'after','after'] \\\n",
    "                 , 'cohort':['control','control','control','control','control','control'] \\\n",
    "                 , 'kpi':[5,6,7,8,9,10]})\n",
    "\n",
    "display(treatment, control)"
   ]
  },
  {
   "cell_type": "code",
   "execution_count": 5,
   "metadata": {},
   "outputs": [
    {
     "name": "stdout",
     "output_type": "stream",
     "text": [
      "<class 'pandas.core.frame.DataFrame'>\n",
      "RangeIndex: 6 entries, 0 to 5\n",
      "Data columns (total 5 columns):\n",
      "user      6 non-null object\n",
      "date      6 non-null datetime64[ns]\n",
      "period    6 non-null object\n",
      "cohort    6 non-null object\n",
      "kpi       6 non-null int64\n",
      "dtypes: datetime64[ns](1), int64(1), object(3)\n",
      "memory usage: 320.0+ bytes\n"
     ]
    }
   ],
   "source": [
    "treatment.info()"
   ]
  },
  {
   "cell_type": "markdown",
   "metadata": {},
   "source": [
    "## DiD requirement\n",
    "\n",
    "Composition of intervention and comparison groups needs to be stable for repeated cross-sectional design.\n",
    "\n",
    "(from https://www.mailman.columbia.edu/research/population-health-methods/difference-difference-estimation)\n",
    "\n",
    "i.e. remove users that are not present in both periods (\"before\" and \"after\")"
   ]
  },
  {
   "cell_type": "code",
   "execution_count": 6,
   "metadata": {},
   "outputs": [],
   "source": [
    "def _by_user(df):\n",
    "    names = {\n",
    "          'inBothPeriods' : T(df)['period'].nunique() > 1\n",
    "    }\n",
    "    return pd.Series(names, index=names.keys())\n",
    "\n",
    "treatment = pd.merge(treatment, T(treatment).groupby('user').apply(_by_user).reset_index())\n",
    "control   = pd.merge(control,   T(control).groupby('user').apply(_by_user).reset_index())"
   ]
  },
  {
   "cell_type": "code",
   "execution_count": 7,
   "metadata": {},
   "outputs": [
    {
     "data": {
      "text/html": [
       "<div>\n",
       "<style scoped>\n",
       "    .dataframe tbody tr th:only-of-type {\n",
       "        vertical-align: middle;\n",
       "    }\n",
       "\n",
       "    .dataframe tbody tr th {\n",
       "        vertical-align: top;\n",
       "    }\n",
       "\n",
       "    .dataframe thead th {\n",
       "        text-align: right;\n",
       "    }\n",
       "</style>\n",
       "<table border=\"1\" class=\"dataframe\">\n",
       "  <thead>\n",
       "    <tr style=\"text-align: right;\">\n",
       "      <th></th>\n",
       "      <th>user</th>\n",
       "      <th>date</th>\n",
       "      <th>period</th>\n",
       "      <th>cohort</th>\n",
       "      <th>kpi</th>\n",
       "      <th>inBothPeriods</th>\n",
       "    </tr>\n",
       "  </thead>\n",
       "  <tbody>\n",
       "    <tr>\n",
       "      <th>0</th>\n",
       "      <td>a</td>\n",
       "      <td>2018-10-16</td>\n",
       "      <td>before</td>\n",
       "      <td>treatment</td>\n",
       "      <td>10</td>\n",
       "      <td>True</td>\n",
       "    </tr>\n",
       "    <tr>\n",
       "      <th>1</th>\n",
       "      <td>a</td>\n",
       "      <td>2018-10-17</td>\n",
       "      <td>before</td>\n",
       "      <td>treatment</td>\n",
       "      <td>12</td>\n",
       "      <td>True</td>\n",
       "    </tr>\n",
       "    <tr>\n",
       "      <th>2</th>\n",
       "      <td>a</td>\n",
       "      <td>2018-10-18</td>\n",
       "      <td>after</td>\n",
       "      <td>treatment</td>\n",
       "      <td>25</td>\n",
       "      <td>True</td>\n",
       "    </tr>\n",
       "    <tr>\n",
       "      <th>3</th>\n",
       "      <td>b</td>\n",
       "      <td>2018-10-16</td>\n",
       "      <td>before</td>\n",
       "      <td>treatment</td>\n",
       "      <td>11</td>\n",
       "      <td>True</td>\n",
       "    </tr>\n",
       "    <tr>\n",
       "      <th>4</th>\n",
       "      <td>b</td>\n",
       "      <td>2018-10-19</td>\n",
       "      <td>after</td>\n",
       "      <td>treatment</td>\n",
       "      <td>35</td>\n",
       "      <td>True</td>\n",
       "    </tr>\n",
       "  </tbody>\n",
       "</table>\n",
       "</div>"
      ],
      "text/plain": [
       "  user       date  period     cohort  kpi  inBothPeriods\n",
       "0    a 2018-10-16  before  treatment   10           True\n",
       "1    a 2018-10-17  before  treatment   12           True\n",
       "2    a 2018-10-18   after  treatment   25           True\n",
       "3    b 2018-10-16  before  treatment   11           True\n",
       "4    b 2018-10-19   after  treatment   35           True"
      ]
     },
     "metadata": {},
     "output_type": "display_data"
    },
    {
     "data": {
      "text/html": [
       "<div>\n",
       "<style scoped>\n",
       "    .dataframe tbody tr th:only-of-type {\n",
       "        vertical-align: middle;\n",
       "    }\n",
       "\n",
       "    .dataframe tbody tr th {\n",
       "        vertical-align: top;\n",
       "    }\n",
       "\n",
       "    .dataframe thead th {\n",
       "        text-align: right;\n",
       "    }\n",
       "</style>\n",
       "<table border=\"1\" class=\"dataframe\">\n",
       "  <thead>\n",
       "    <tr style=\"text-align: right;\">\n",
       "      <th></th>\n",
       "      <th>user</th>\n",
       "      <th>date</th>\n",
       "      <th>period</th>\n",
       "      <th>cohort</th>\n",
       "      <th>kpi</th>\n",
       "      <th>inBothPeriods</th>\n",
       "    </tr>\n",
       "  </thead>\n",
       "  <tbody>\n",
       "    <tr>\n",
       "      <th>0</th>\n",
       "      <td>k</td>\n",
       "      <td>2018-10-16</td>\n",
       "      <td>before</td>\n",
       "      <td>control</td>\n",
       "      <td>5</td>\n",
       "      <td>True</td>\n",
       "    </tr>\n",
       "    <tr>\n",
       "      <th>1</th>\n",
       "      <td>k</td>\n",
       "      <td>2018-10-17</td>\n",
       "      <td>before</td>\n",
       "      <td>control</td>\n",
       "      <td>7</td>\n",
       "      <td>True</td>\n",
       "    </tr>\n",
       "    <tr>\n",
       "      <th>2</th>\n",
       "      <td>k</td>\n",
       "      <td>2018-10-18</td>\n",
       "      <td>after</td>\n",
       "      <td>control</td>\n",
       "      <td>9</td>\n",
       "      <td>True</td>\n",
       "    </tr>\n",
       "    <tr>\n",
       "      <th>3</th>\n",
       "      <td>j</td>\n",
       "      <td>2018-10-16</td>\n",
       "      <td>before</td>\n",
       "      <td>control</td>\n",
       "      <td>6</td>\n",
       "      <td>True</td>\n",
       "    </tr>\n",
       "    <tr>\n",
       "      <th>4</th>\n",
       "      <td>j</td>\n",
       "      <td>2018-10-19</td>\n",
       "      <td>after</td>\n",
       "      <td>control</td>\n",
       "      <td>10</td>\n",
       "      <td>True</td>\n",
       "    </tr>\n",
       "  </tbody>\n",
       "</table>\n",
       "</div>"
      ],
      "text/plain": [
       "  user       date  period   cohort  kpi  inBothPeriods\n",
       "0    k 2018-10-16  before  control    5           True\n",
       "1    k 2018-10-17  before  control    7           True\n",
       "2    k 2018-10-18   after  control    9           True\n",
       "3    j 2018-10-16  before  control    6           True\n",
       "4    j 2018-10-19   after  control   10           True"
      ]
     },
     "metadata": {},
     "output_type": "display_data"
    }
   ],
   "source": [
    "# filter for both periods\n",
    "treatment = T(treatment).where(\"inBothPeriods\", True)\n",
    "control   = T(control).where(\"inBothPeriods\", True)\n",
    "\n",
    "display(treatment, control)"
   ]
  },
  {
   "cell_type": "markdown",
   "metadata": {},
   "source": [
    "## Plot Treatment and Control KPI"
   ]
  },
  {
   "cell_type": "code",
   "execution_count": 8,
   "metadata": {},
   "outputs": [
    {
     "name": "stderr",
     "output_type": "stream",
     "text": [
      "C:\\ProgramData\\Anaconda3\\lib\\site-packages\\pandas\\plotting\\_converter.py:129: FutureWarning: Using an implicitly registered datetime converter for a matplotlib plotting method. The converter was registered by pandas on import. Future versions of pandas will require you to explicitly register matplotlib converters.\n",
      "\n",
      "To register the converters:\n",
      "\t>>> from pandas.plotting import register_matplotlib_converters\n",
      "\t>>> register_matplotlib_converters()\n",
      "  warnings.warn(msg, FutureWarning)\n"
     ]
    },
    {
     "data": {
      "text/plain": [
       "<matplotlib.lines.Line2D at 0x1cc4fdd04a8>"
      ]
     },
     "execution_count": 8,
     "metadata": {},
     "output_type": "execute_result"
    },
    {
     "data": {
      "image/png": "[encoded data removed]",
      "text/plain": [
       "<Figure size 576x432 with 1 Axes>"
      ]
     },
     "metadata": {
      "image/png": {
       "height": 369,
       "width": 547
      },
      "needs_background": "light"
     },
     "output_type": "display_data"
    }
   ],
   "source": [
    "## Group by date, median of KPI, per cohort\n",
    "def day_agg(df):\n",
    "    names = {\n",
    "        'kpi':    np.median(df['kpi']),\n",
    "        'cohort': np.max(df['cohort'])\n",
    "    }\n",
    "    return pd.Series(names, index=['kpi', 'cohort'])\n",
    "\n",
    "treat  = treatment.groupby('date').apply(day_agg).reset_index()\n",
    "ctrl   = control.groupby('date').apply(day_agg).reset_index()\n",
    "\n",
    "plt.figure(figsize=(8, 6))\n",
    "sns.lineplot(x=\"date\", y=\"kpi\", hue=\"cohort\", data=pd.concat([treat, ctrl]))\n",
    "plt.axvline(np.max(T(treatment).where(\"period\", \"before\").column(\"date\")), 0,1,linewidth=4, color='grey' )\n"
   ]
  },
  {
   "cell_type": "markdown",
   "metadata": {},
   "source": [
    "The vertical grey line marks the start of the intervention, see that:\n",
    "- Both treatment and control before the intervention are perfectly parallel, this is a requirement in applying this method, means these fair groups (control and treatment) to compare here.\n",
    "- Note that after the intervention the trends change, so next we quantify the impact of the intervention\n"
   ]
  },
  {
   "cell_type": "markdown",
   "metadata": {},
   "source": [
    "## DID Calculation\n"
   ]
  },
  {
   "cell_type": "markdown",
   "metadata": {},
   "source": [
    "- Do user level aggregations of the metric we are focusing on, kpi\n",
    "- Separate before and after period and calculate metric for each user for A, B, C, D"
   ]
  },
  {
   "cell_type": "code",
   "execution_count": 9,
   "metadata": {},
   "outputs": [
    {
     "data": {
      "text/html": [
       "<div>\n",
       "<style scoped>\n",
       "    .dataframe tbody tr th:only-of-type {\n",
       "        vertical-align: middle;\n",
       "    }\n",
       "\n",
       "    .dataframe tbody tr th {\n",
       "        vertical-align: top;\n",
       "    }\n",
       "\n",
       "    .dataframe thead th {\n",
       "        text-align: right;\n",
       "    }\n",
       "</style>\n",
       "<table border=\"1\" class=\"dataframe\">\n",
       "  <thead>\n",
       "    <tr style=\"text-align: right;\">\n",
       "      <th></th>\n",
       "      <th>user</th>\n",
       "      <th>kpi</th>\n",
       "    </tr>\n",
       "  </thead>\n",
       "  <tbody>\n",
       "    <tr>\n",
       "      <th>0</th>\n",
       "      <td>a</td>\n",
       "      <td>11.0</td>\n",
       "    </tr>\n",
       "    <tr>\n",
       "      <th>1</th>\n",
       "      <td>b</td>\n",
       "      <td>11.0</td>\n",
       "    </tr>\n",
       "  </tbody>\n",
       "</table>\n",
       "</div>"
      ],
      "text/plain": [
       "  user   kpi\n",
       "0    a  11.0\n",
       "1    b  11.0"
      ]
     },
     "metadata": {},
     "output_type": "display_data"
    },
    {
     "data": {
      "text/html": [
       "<div>\n",
       "<style scoped>\n",
       "    .dataframe tbody tr th:only-of-type {\n",
       "        vertical-align: middle;\n",
       "    }\n",
       "\n",
       "    .dataframe tbody tr th {\n",
       "        vertical-align: top;\n",
       "    }\n",
       "\n",
       "    .dataframe thead th {\n",
       "        text-align: right;\n",
       "    }\n",
       "</style>\n",
       "<table border=\"1\" class=\"dataframe\">\n",
       "  <thead>\n",
       "    <tr style=\"text-align: right;\">\n",
       "      <th></th>\n",
       "      <th>user</th>\n",
       "      <th>kpi</th>\n",
       "    </tr>\n",
       "  </thead>\n",
       "  <tbody>\n",
       "    <tr>\n",
       "      <th>0</th>\n",
       "      <td>a</td>\n",
       "      <td>25.0</td>\n",
       "    </tr>\n",
       "    <tr>\n",
       "      <th>1</th>\n",
       "      <td>b</td>\n",
       "      <td>35.0</td>\n",
       "    </tr>\n",
       "  </tbody>\n",
       "</table>\n",
       "</div>"
      ],
      "text/plain": [
       "  user   kpi\n",
       "0    a  25.0\n",
       "1    b  35.0"
      ]
     },
     "metadata": {},
     "output_type": "display_data"
    },
    {
     "data": {
      "text/html": [
       "<div>\n",
       "<style scoped>\n",
       "    .dataframe tbody tr th:only-of-type {\n",
       "        vertical-align: middle;\n",
       "    }\n",
       "\n",
       "    .dataframe tbody tr th {\n",
       "        vertical-align: top;\n",
       "    }\n",
       "\n",
       "    .dataframe thead th {\n",
       "        text-align: right;\n",
       "    }\n",
       "</style>\n",
       "<table border=\"1\" class=\"dataframe\">\n",
       "  <thead>\n",
       "    <tr style=\"text-align: right;\">\n",
       "      <th></th>\n",
       "      <th>user</th>\n",
       "      <th>kpi</th>\n",
       "    </tr>\n",
       "  </thead>\n",
       "  <tbody>\n",
       "    <tr>\n",
       "      <th>0</th>\n",
       "      <td>j</td>\n",
       "      <td>10.0</td>\n",
       "    </tr>\n",
       "    <tr>\n",
       "      <th>1</th>\n",
       "      <td>k</td>\n",
       "      <td>9.0</td>\n",
       "    </tr>\n",
       "  </tbody>\n",
       "</table>\n",
       "</div>"
      ],
      "text/plain": [
       "  user   kpi\n",
       "0    j  10.0\n",
       "1    k   9.0"
      ]
     },
     "metadata": {},
     "output_type": "display_data"
    },
    {
     "data": {
      "text/html": [
       "<div>\n",
       "<style scoped>\n",
       "    .dataframe tbody tr th:only-of-type {\n",
       "        vertical-align: middle;\n",
       "    }\n",
       "\n",
       "    .dataframe tbody tr th {\n",
       "        vertical-align: top;\n",
       "    }\n",
       "\n",
       "    .dataframe thead th {\n",
       "        text-align: right;\n",
       "    }\n",
       "</style>\n",
       "<table border=\"1\" class=\"dataframe\">\n",
       "  <thead>\n",
       "    <tr style=\"text-align: right;\">\n",
       "      <th></th>\n",
       "      <th>user</th>\n",
       "      <th>kpi</th>\n",
       "    </tr>\n",
       "  </thead>\n",
       "  <tbody>\n",
       "    <tr>\n",
       "      <th>0</th>\n",
       "      <td>j</td>\n",
       "      <td>6.0</td>\n",
       "    </tr>\n",
       "    <tr>\n",
       "      <th>1</th>\n",
       "      <td>k</td>\n",
       "      <td>6.0</td>\n",
       "    </tr>\n",
       "  </tbody>\n",
       "</table>\n",
       "</div>"
      ],
      "text/plain": [
       "  user  kpi\n",
       "0    j  6.0\n",
       "1    k  6.0"
      ]
     },
     "metadata": {},
     "output_type": "display_data"
    }
   ],
   "source": [
    "# \n",
    "def user_agg(df):\n",
    "    names = {\n",
    "        'kpi': np.mean(df['kpi'])\n",
    "    }\n",
    "    return pd.Series(names, index=['kpi'])\n",
    "\n",
    "\n",
    "_treat_pre  = treatment.loc[treatment['period'] == 'before'].groupby('user').apply(user_agg).reset_index()\n",
    "_treat_post = treatment.loc[treatment['period'] == 'after'].groupby('user').apply(user_agg).reset_index()\n",
    "\n",
    "_ctrl_pre  = control.loc[control['period'] == 'before'].groupby('user').apply(user_agg).reset_index()\n",
    "_ctrl_post = control.loc[control['period'] == 'after'].groupby('user').apply(user_agg).reset_index()\n",
    "\n",
    "display(_treat_pre, _treat_post, _ctrl_post, _ctrl_pre)"
   ]
  },
  {
   "cell_type": "markdown",
   "metadata": {},
   "source": [
    "#### Bootstrap sampling by user\n"
   ]
  },
  {
   "cell_type": "markdown",
   "metadata": {},
   "source": [
    "We don't calculate the DiD directly, we instead follow the probabilistic approach and calculate bootstrap samples, to better simulate/predict collecting multiple samples from the population.\n",
    "\n",
    "**nb:** In this toy example there's to little data for this method to be statistical significant sense, but this codes serves as example that can be applied to other data"
   ]
  },
  {
   "cell_type": "code",
   "execution_count": 10,
   "metadata": {},
   "outputs": [],
   "source": [
    "## Bootstrap sampling\n",
    "### draw_bs_reps: Generates bootstrap replicates out of `data` using `func`, collects `size` samples\n",
    "### samples w/ replacement\n",
    "\n",
    "treat_pre  = stats.draw_bs_reps(_treat_pre[['kpi']].values.flatten(),  func=np.mean, size=10000)\n",
    "treat_post = stats.draw_bs_reps(_treat_post[['kpi']].values.flatten(), func=np.mean, size=10000)\n",
    "ctrl_pre   = stats.draw_bs_reps(_ctrl_pre[['kpi']].values.flatten(),   func=np.mean, size=10000)\n",
    "ctrl_post  = stats.draw_bs_reps(_ctrl_post[['kpi']].values.flatten(),  func=np.mean, size=10000)"
   ]
  },
  {
   "cell_type": "code",
   "execution_count": 11,
   "metadata": {},
   "outputs": [],
   "source": [
    "# DID\n",
    "DiD = (treat_post - treat_pre) - (ctrl_post - ctrl_pre)"
   ]
  },
  {
   "cell_type": "markdown",
   "metadata": {},
   "source": [
    "Shows the probabilistic* distribution of the impact of intervention.\n",
    "\n",
    "*probabilistic = functions as collecting several samples from population, and for each we calculate the impact of intervention. Doing this for enought samples, we get a quite accurate measure of impact. Including lets us calculate the confidence intervals for it."
   ]
  },
  {
   "cell_type": "code",
   "execution_count": 12,
   "metadata": {},
   "outputs": [
    {
     "data": {
      "text/plain": [
       "<matplotlib.axes._subplots.AxesSubplot at 0x1cc5051e5f8>"
      ]
     },
     "execution_count": 12,
     "metadata": {},
     "output_type": "execute_result"
    },
    {
     "data": {
      "image/png": "[encoded data removed]",
      "text/plain": [
       "<Figure size 432x288 with 1 Axes>"
      ]
     },
     "metadata": {
      "image/png": {
       "height": 244,
       "width": 409
      },
      "needs_background": "light"
     },
     "output_type": "display_data"
    }
   ],
   "source": [
    "sns.distplot(DiD)"
   ]
  },
  {
   "cell_type": "markdown",
   "metadata": {},
   "source": [
    "## Summary of Intervention"
   ]
  },
  {
   "cell_type": "code",
   "execution_count": 13,
   "metadata": {},
   "outputs": [
    {
     "name": "stdout",
     "output_type": "stream",
     "text": [
      "\n",
      "Treatment Before:  KPI mean = 11.000\n",
      "                   NUsers   = 2\n",
      "\n",
      "Treatment After :  KPI mean = 30.000\n",
      "                   NUsers   = 2\n",
      "\n",
      "\n",
      "Control Before:    KPI mean = 6.000\n",
      "                   NUsers   = 2\n",
      "\n",
      "Control After :    KPI mean = 9.500\n",
      "                   NUsers   = 2\n",
      "\n",
      "DID: 95% Confidence for Treatment KPI uplift after the intervention\n",
      "conf. int. = [10.0, 21.0] \n",
      "\n",
      "\n"
     ]
    }
   ],
   "source": [
    "\n",
    "print(\"\"\"\n",
    "Treatment Before:  KPI mean = {0:.3f}\n",
    "                   NUsers   = {1:.0f}\n",
    "\n",
    "Treatment After :  KPI mean = {2:.3f}\n",
    "                   NUsers   = {3:.0f}\n",
    "\n",
    "\n",
    "Control Before:    KPI mean = {4:.3f}\n",
    "                   NUsers   = {5:.0f}\n",
    "\n",
    "Control After :    KPI mean = {6:.3f}\n",
    "                   NUsers   = {7:.0f}\n",
    "\n",
    "DID: 95% Confidence for Treatment KPI uplift after the intervention\n",
    "conf. int. = [{8:.1f}, {9:.1f}] \n",
    "\n",
    "\"\"\".format(  np.mean(_treat_pre[['kpi']])[0] \\\n",
    "           , treatment.loc[treatment['period'] == 'before']['user'].nunique()  \\\n",
    "           , np.mean(_treat_post[['kpi']])[0] \\\n",
    "           , treatment.loc[treatment['period'] == 'after']['user'].nunique()  \\\n",
    "           , np.mean(_ctrl_pre[['kpi']])[0] \\\n",
    "           , control.loc[control['period'] == 'before']['user'].nunique()  \\\n",
    "           , np.mean(_ctrl_post[['kpi']])[0] \\\n",
    "           , control.loc[control['period'] == 'after']['user'].nunique()  \\\n",
    "           , np.percentile(DiD, [2.5, 97.5])[0] \\\n",
    "           , np.percentile(DiD, [2.5, 97.5])[1] \\\n",
    "          ))\n"
   ]
  },
  {
   "cell_type": "code",
   "execution_count": null,
   "metadata": {},
   "outputs": [],
   "source": []
  }
 ],
 "metadata": {
  "kernelspec": {
   "display_name": "Python 3",
   "language": "python",
   "name": "python3"
  },
  "language_info": {
   "codemirror_mode": {
    "name": "ipython",
    "version": 3
   },
   "file_extension": ".py",
   "mimetype": "text/x-python",
   "name": "python",
   "nbconvert_exporter": "python",
   "pygments_lexer": "ipython3",
   "version": "3.7.2"
  },
  "toc-autonumbering": true
 },
 "nbformat": 4,
 "nbformat_minor": 2
}
